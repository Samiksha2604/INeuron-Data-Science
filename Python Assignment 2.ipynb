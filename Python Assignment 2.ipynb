{
 "cells": [
  {
   "cell_type": "markdown",
   "metadata": {},
   "source": [
    "### 1. Create the below pattern using nested for loop in Python."
   ]
  },
  {
   "cell_type": "code",
   "execution_count": 9,
   "metadata": {},
   "outputs": [
    {
     "name": "stdout",
     "output_type": "stream",
     "text": [
      "* \t\n",
      "* * \t\n",
      "* * * \t\n",
      "* * * * \t\n",
      "* * * * * \t\n",
      "* * * * * \t\n",
      "* * * * \t\n",
      "* * * \t\n",
      "* * \t\n",
      "* \t\n"
     ]
    }
   ],
   "source": [
    "n=5;\n",
    "for i in range(0,n):\n",
    "    for j in range(i+1):       \n",
    "        print ('* ', end=\"\")   \n",
    "    print('\\t')                # ending the line after row\n",
    "\n",
    "for i in range(n,0,-1):        # will decrease from n=5 by step of -1\n",
    "    for j in range(i):\n",
    "        print('* ', end=\"\")\n",
    "    print('\\t')                # ending the line after row"
   ]
  },
  {
   "cell_type": "markdown",
   "metadata": {},
   "source": [
    "### 2. Write a Python program to reverse a word after accepting the input from the user."
   ]
  },
  {
   "cell_type": "code",
   "execution_count": 55,
   "metadata": {},
   "outputs": [
    {
     "name": "stdout",
     "output_type": "stream",
     "text": [
      "Input Word : ineuron\n",
      "Output : norueni\n"
     ]
    }
   ],
   "source": [
    "def reverse(str1):          # defining function str1\n",
    "    str1 = \"\".join(reversed(str1))  # reversing using 'reversed' predefined function \n",
    "    return str1\n",
    "  \n",
    "word = input (\"Input Word : \")   # User input\n",
    "  \n",
    "print (\"Output : \",end=\"\")      \n",
    "print (reverse(word))            # calling 'reverse' user defined function and passing input (word)"
   ]
  },
  {
   "cell_type": "code",
   "execution_count": 58,
   "metadata": {},
   "outputs": [
    {
     "name": "stdout",
     "output_type": "stream",
     "text": [
      "Input Word : ineuron\n",
      "Output :  norueni\n"
     ]
    }
   ],
   "source": [
    "word = input (\"Input Word : \")     # User input\n",
    "#word = word.lower()                # converting all alphabets in lowercase (incase user inputs upper case)\n",
    "revWord =\"\".join( reversed(word))  # reversing using 'reversed' predefined function\n",
    "\n",
    "print(\"Output : \",revWord)         "
   ]
  }
 ],
 "metadata": {
  "kernelspec": {
   "display_name": "Python 3",
   "language": "python",
   "name": "python3"
  },
  "language_info": {
   "codemirror_mode": {
    "name": "ipython",
    "version": 3
   },
   "file_extension": ".py",
   "mimetype": "text/x-python",
   "name": "python",
   "nbconvert_exporter": "python",
   "pygments_lexer": "ipython3",
   "version": "3.7.4"
  }
 },
 "nbformat": 4,
 "nbformat_minor": 2
}
