{
 "cells": [
  {
   "cell_type": "markdown",
   "metadata": {},
   "source": [
    "### Write a function so that the columns of the output matrix are powers of the input vector.\n",
    "\n",
    "### The order of the powers is determined by the increasing boolean argument. Specifically, when increasing is False, the i-th output column is the input vector raised element-wise to the power of N - i - 1.\n",
    "\n",
    "### HINT: Such a matrix with a geometric progression in each row is named for Alexandre- Theophile Vandermonde."
   ]
  },
  {
   "cell_type": "code",
   "execution_count": null,
   "metadata": {},
   "outputs": [],
   "source": [
    "import numpy as np"
   ]
  },
  {
   "cell_type": "code",
   "execution_count": 49,
   "metadata": {},
   "outputs": [],
   "source": [
    "def vandermonde(ipv, n, increasing=False):\n",
    "    \n",
    "    if not increasing:\n",
    "        matrix = np.array([x**(n-1-i) for x in ipv for i in range(n)]).reshape(ipv.size,n)\n",
    "    elif increasing:\n",
    "        matrix = np.array([x**i for x in ipv for i in range(n)]).reshape(ipv.size,n)\n",
    "    \n",
    "    return matrix"
   ]
  },
  {
   "cell_type": "code",
   "execution_count": 50,
   "metadata": {},
   "outputs": [],
   "source": [
    "input_v = np.array([1,2,3,4,5])\n",
    "matx_dec = vandermonde(inputvector,matx_col,False)\n",
    "matx_inc = vandermonde(inputvector,matx_col,True)"
   ]
  },
  {
   "cell_type": "code",
   "execution_count": 51,
   "metadata": {},
   "outputs": [
    {
     "name": "stdout",
     "output_type": "stream",
     "text": [
      "The input array is: [1 2 3 4 5] \n",
      "\n",
      "Vandermonde matrix of the input array in decreasing order of powers:\n",
      " [[    1     1     1     1     1]\n",
      " [   16     8     4     2     1]\n",
      " [  256    64    16     4     1]\n",
      " [ 1296   216    36     6     1]\n",
      " [ 4096   512    64     8     1]\n",
      " [10000  1000   100    10     1]] \n",
      "\n",
      "Vandermonde matrix of the input array in increasing order of powers:\n",
      " [[    1     1     1     1     1]\n",
      " [    1     2     4     8    16]\n",
      " [    1     4    16    64   256]\n",
      " [    1     6    36   216  1296]\n",
      " [    1     8    64   512  4096]\n",
      " [    1    10   100  1000 10000]] \n",
      "\n"
     ]
    }
   ],
   "source": [
    "print(\"The input array is:\",input_v,\"\\n\")\n",
    "print(\"Vandermonde matrix of the input array in decreasing order of powers:\\n\",matx_dec,\"\\n\")\n",
    "print(\"Vandermonde matrix of the input array in increasing order of powers:\\n\",matx_inc,\"\\n\")"
   ]
  },
  {
   "cell_type": "code",
   "execution_count": 52,
   "metadata": {},
   "outputs": [],
   "source": [
    "input_v = np.array([1,2,4,6,8,10])"
   ]
  },
  {
   "cell_type": "code",
   "execution_count": 53,
   "metadata": {},
   "outputs": [
    {
     "name": "stdout",
     "output_type": "stream",
     "text": [
      "The input array is: [ 1  2  4  6  8 10] \n",
      "\n",
      "Vandermonde matrix of the input array in decreasing order of powers:\n",
      " [[    1     1     1     1     1]\n",
      " [   16     8     4     2     1]\n",
      " [  256    64    16     4     1]\n",
      " [ 1296   216    36     6     1]\n",
      " [ 4096   512    64     8     1]\n",
      " [10000  1000   100    10     1]] \n",
      "\n",
      "Vandermonde matrix of the input array in increasing order of powers:\n",
      " [[    1     1     1     1     1]\n",
      " [    1     2     4     8    16]\n",
      " [    1     4    16    64   256]\n",
      " [    1     6    36   216  1296]\n",
      " [    1     8    64   512  4096]\n",
      " [    1    10   100  1000 10000]] \n",
      "\n"
     ]
    }
   ],
   "source": [
    "print(\"The input array is:\",input_v,\"\\n\")\n",
    "print(\"Vandermonde matrix of the input array in decreasing order of powers:\\n\",matx_dec,\"\\n\")\n",
    "print(\"Vandermonde matrix of the input array in increasing order of powers:\\n\",matx_inc,\"\\n\")"
   ]
  },
  {
   "cell_type": "markdown",
   "metadata": {},
   "source": [
    "### Given a sequence of n values x1, x2, ..., xn and a window size k>0, the k-th moving average of the given sequence is defined as follows:\n",
    "### The moving average sequence has n-k+1 elements as shown below.\n",
    "### The moving averages with k=4 of a ten-value sequence (n=10) is shown below\n",
    "### i 1 2 3 4 5 6 7 8 9 10\n",
    "### ===== == == == == == == == == == ==\n",
    "### Input 10 20 30 40 50 60 70 80 90 100\n",
    "### y1 25 = (10+20+30+40)/4\n",
    "### y2 35 = (20+30+40+50)/4\n",
    "### y3 45 = (30+40+50+60)/4\n",
    "### y4 55 = (40+50+60+70)/4\n",
    "### y5 65 = (50+60+70+80)/4\n",
    "### y6 75 = (60+70+80+90)/4\n",
    "### y7 85 = (70+80+90+100)/4\n",
    "### Thus, the moving average sequence has n-k+1=10-4+1=7 values.\n",
    "\n",
    "### Question: Write a function to find moving average in an array over a window: Test it over [3, 5, 7, 2, 8, 10, 11, 65, 72, 81, 99, 100, 150] and window of 3."
   ]
  },
  {
   "cell_type": "code",
   "execution_count": 56,
   "metadata": {},
   "outputs": [
    {
     "name": "stdout",
     "output_type": "stream",
     "text": [
      "[  5.           4.66666667   5.66666667   6.66666667   9.66666667\n",
      "  28.66666667  49.33333333  72.66666667  84.          93.33333333\n",
      " 116.33333333]\n"
     ]
    }
   ],
   "source": [
    "def moving_average(z, n=3) :\n",
    "    num = np.cumsum(z, dtype=float)\n",
    "    num[n:] = num[n:] - num[:-n]\n",
    "    return num[n - 1:] / n\n",
    "z = [3, 5, 7, 2, 8, 10, 11, 65, 72, 81, 99, 100, 150]\n",
    "print(moving_average(z, n=3))"
   ]
  },
  {
   "cell_type": "code",
   "execution_count": null,
   "metadata": {},
   "outputs": [],
   "source": []
  }
 ],
 "metadata": {
  "kernelspec": {
   "display_name": "Python 3",
   "language": "python",
   "name": "python3"
  },
  "language_info": {
   "codemirror_mode": {
    "name": "ipython",
    "version": 3
   },
   "file_extension": ".py",
   "mimetype": "text/x-python",
   "name": "python",
   "nbconvert_exporter": "python",
   "pygments_lexer": "ipython3",
   "version": "3.7.4"
  }
 },
 "nbformat": 4,
 "nbformat_minor": 2
}
